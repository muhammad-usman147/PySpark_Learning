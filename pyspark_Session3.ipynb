{
  "nbformat": 4,
  "nbformat_minor": 0,
  "metadata": {
    "colab": {
      "name": "pyspark_Session3.ipynb",
      "provenance": [],
      "collapsed_sections": []
    },
    "kernelspec": {
      "display_name": "Python 3",
      "name": "python3"
    },
    "language_info": {
      "name": "python"
    }
  },
  "cells": [
    {
      "cell_type": "code",
      "metadata": {
        "colab": {
          "base_uri": "https://localhost:8080/"
        },
        "id": "xELoWTM1ZwFl",
        "outputId": "6aa8029b-415e-454a-df91-5dfd1015ef22"
      },
      "source": [
        "!pip install pyspark"
      ],
      "execution_count": 1,
      "outputs": [
        {
          "output_type": "stream",
          "text": [
            "Collecting pyspark\n",
            "\u001b[?25l  Downloading https://files.pythonhosted.org/packages/45/b0/9d6860891ab14a39d4bddf80ba26ce51c2f9dc4805e5c6978ac0472c120a/pyspark-3.1.1.tar.gz (212.3MB)\n",
            "\u001b[K     |████████████████████████████████| 212.3MB 66kB/s \n",
            "\u001b[?25hCollecting py4j==0.10.9\n",
            "\u001b[?25l  Downloading https://files.pythonhosted.org/packages/9e/b6/6a4fb90cd235dc8e265a6a2067f2a2c99f0d91787f06aca4bcf7c23f3f80/py4j-0.10.9-py2.py3-none-any.whl (198kB)\n",
            "\u001b[K     |████████████████████████████████| 204kB 19.1MB/s \n",
            "\u001b[?25hBuilding wheels for collected packages: pyspark\n",
            "  Building wheel for pyspark (setup.py) ... \u001b[?25l\u001b[?25hdone\n",
            "  Created wheel for pyspark: filename=pyspark-3.1.1-py2.py3-none-any.whl size=212767604 sha256=58e805f41a7e8da9dac5b111bad2fe72625e891ba5bd364fd5eba5e3bcff9524\n",
            "  Stored in directory: /root/.cache/pip/wheels/0b/90/c0/01de724414ef122bd05f056541fb6a0ecf47c7ca655f8b3c0f\n",
            "Successfully built pyspark\n",
            "Installing collected packages: py4j, pyspark\n",
            "Successfully installed py4j-0.10.9 pyspark-3.1.1\n"
          ],
          "name": "stdout"
        }
      ]
    },
    {
      "cell_type": "code",
      "metadata": {
        "id": "wPbr4pCyV_Gu"
      },
      "source": [
        "from pyspark.sql import SparkSession"
      ],
      "execution_count": 3,
      "outputs": []
    },
    {
      "cell_type": "code",
      "metadata": {
        "colab": {
          "base_uri": "https://localhost:8080/",
          "height": 216
        },
        "id": "EF6ykjZqD8HQ",
        "outputId": "9af5c641-e65f-4cff-ac73-929a776f6d30"
      },
      "source": [
        "spark_app = SparkSession.builder.appName('UsmanApplication').getOrCreate()\n",
        "spark_app"
      ],
      "execution_count": 4,
      "outputs": [
        {
          "output_type": "execute_result",
          "data": {
            "text/html": [
              "\n",
              "            <div>\n",
              "                <p><b>SparkSession - in-memory</b></p>\n",
              "                \n",
              "        <div>\n",
              "            <p><b>SparkContext</b></p>\n",
              "\n",
              "            <p><a href=\"http://b892235a02c9:4040\">Spark UI</a></p>\n",
              "\n",
              "            <dl>\n",
              "              <dt>Version</dt>\n",
              "                <dd><code>v3.1.1</code></dd>\n",
              "              <dt>Master</dt>\n",
              "                <dd><code>local[*]</code></dd>\n",
              "              <dt>AppName</dt>\n",
              "                <dd><code>UsmanApplication</code></dd>\n",
              "            </dl>\n",
              "        </div>\n",
              "        \n",
              "            </div>\n",
              "        "
            ],
            "text/plain": [
              "<pyspark.sql.session.SparkSession at 0x7f539673d090>"
            ]
          },
          "metadata": {
            "tags": []
          },
          "execution_count": 4
        }
      ]
    },
    {
      "cell_type": "code",
      "metadata": {
        "colab": {
          "base_uri": "https://localhost:8080/"
        },
        "id": "Ig4PFLYUEY_P",
        "outputId": "48c97947-92ba-4451-a9f0-1c7c841568f7"
      },
      "source": [
        "spark_df = spark_app.read.csv('/content/airquality.csv',\n",
        "                          header = True, #getting the col names\n",
        "                          inferSchema = True)\n",
        "#inferschema  = True will get the actual DataTypes of the dataset\n",
        "spark_df"
      ],
      "execution_count": 20,
      "outputs": [
        {
          "output_type": "execute_result",
          "data": {
            "text/plain": [
              "DataFrame[ID: int, name: string, category: string, main_category: string, currency: string, deadline: string, goal: string, launched: string, pledged: string, state: string, backers: string, country: string, usd pledged: string, usd_pledged_real: string, usd_goal_real: string]"
            ]
          },
          "metadata": {
            "tags": []
          },
          "execution_count": 20
        }
      ]
    },
    {
      "cell_type": "code",
      "metadata": {
        "colab": {
          "base_uri": "https://localhost:8080/"
        },
        "id": "dau1_CzdE9eI",
        "outputId": "9e4e504b-a583-4a87-9a8f-d0c18522d971"
      },
      "source": [
        "\n",
        "print('Shape = {}'.format((spark_df.count(), len(spark_df.columns))))\n",
        "spark_df.show()"
      ],
      "execution_count": 35,
      "outputs": [
        {
          "output_type": "stream",
          "text": [
            "Shape = (103449, 15)\n",
            "+----------+--------------------+--------------+-------------+--------+----------+---------+-------------------+--------+----------+-------+-------+-----------+----------------+-------------+\n",
            "|        ID|                name|      category|main_category|currency|  deadline|     goal|           launched| pledged|     state|backers|country|usd pledged|usd_pledged_real|usd_goal_real|\n",
            "+----------+--------------------+--------------+-------------+--------+----------+---------+-------------------+--------+----------+-------+-------+-----------+----------------+-------------+\n",
            "|1000002330|The Songs of Adel...|        Poetry|   Publishing|     GBP|2015-10-09|  1000.00|2015-08-11 12:12:28|    0.00|    failed|      0|     GB|       0.00|            0.00|      1533.95|\n",
            "|1000003930|Greeting From Ear...|Narrative Film| Film & Video|     USD|2017-11-01| 30000.00|2017-09-02 04:43:57| 2421.00|    failed|     15|     US|     100.00|         2421.00|     30000.00|\n",
            "|1000004038|      Where is Hank?|Narrative Film| Film & Video|     USD|2013-02-26| 45000.00|2013-01-12 00:20:50|  220.00|    failed|      3|     US|     220.00|          220.00|     45000.00|\n",
            "|1000007540|ToshiCapital Reko...|         Music|        Music|     USD|2012-04-16|  5000.00|2012-03-17 03:24:11|    1.00|    failed|      1|     US|       1.00|            1.00|      5000.00|\n",
            "|1000011046|Community Film Pr...|  Film & Video| Film & Video|     USD|2015-08-29| 19500.00|2015-07-04 08:35:03| 1283.00|  canceled|     14|     US|    1283.00|         1283.00|     19500.00|\n",
            "|1000014025|Monarch Espresso Bar|   Restaurants|         Food|     USD|2016-04-01| 50000.00|2016-02-26 13:38:27|52375.00|successful|    224|     US|   52375.00|        52375.00|     50000.00|\n",
            "|1000023410|Support Solar Roa...|          Food|         Food|     USD|2014-12-21|  1000.00|2014-12-01 18:30:44| 1205.00|successful|     16|     US|    1205.00|         1205.00|      1000.00|\n",
            "|1000030581|Chaser Strips. Ou...|        Drinks|         Food|     USD|2016-03-17| 25000.00|2016-02-01 20:05:12|  453.00|    failed|     40|     US|     453.00|          453.00|     25000.00|\n",
            "|1000034518|SPIN - Premium Re...|Product Design|       Design|     USD|2014-05-29|125000.00|2014-04-24 18:14:43| 8233.00|  canceled|     58|     US|    8233.00|         8233.00|    125000.00|\n",
            "| 100004195|STUDIO IN THE SKY...|   Documentary| Film & Video|     USD|2014-08-10| 65000.00|2014-07-11 21:55:48| 6240.57|  canceled|     43|     US|    6240.57|         6240.57|     65000.00|\n",
            "| 100004721| Of Jesus and Madmen|    Nonfiction|   Publishing|     CAD|2013-10-09|  2500.00|2013-09-09 18:19:37|    0.00|    failed|      0|     CA|       0.00|            0.00|      2406.39|\n",
            "| 100005484|    Lisa Lim New CD!|    Indie Rock|        Music|     USD|2013-04-08| 12500.00|2013-03-09 06:42:58|12700.00|successful|    100|     US|   12700.00|        12700.00|     12500.00|\n",
            "|1000055792|  The Cottage Market|        Crafts|       Crafts|     USD|2014-10-02|  5000.00|2014-09-02 17:11:50|    0.00|    failed|      0|     US|       0.00|            0.00|      5000.00|\n",
            "|1000056157|G-Spot Place for ...|         Games|        Games|     USD|2016-03-25|200000.00|2016-02-09 23:01:12|    0.00|    failed|      0|     US|       0.00|            0.00|    200000.00|\n",
            "|1000057089|Tombstone: Old We...|Tabletop Games|        Games|     GBP|2017-05-03|  5000.00|2017-04-05 19:44:18|94175.00|successful|    761|     GB|   57763.78|       121857.33|      6469.73|\n",
            "|1000064368|      Survival Rings|        Design|       Design|     USD|2015-02-28|  2500.00|2015-01-29 02:10:53|  664.00|    failed|     11|     US|     664.00|          664.00|      2500.00|\n",
            "|1000064918|           The Beard|   Comic Books|       Comics|     USD|2014-11-08|  1500.00|2014-10-09 22:27:52|  395.00|    failed|     16|     US|     395.00|          395.00|      1500.00|\n",
            "|1000068480|Notes From London...|     Art Books|   Publishing|     USD|2015-05-10|  3000.00|2015-04-10 21:20:54|  789.00|    failed|     20|     US|     789.00|          789.00|      3000.00|\n",
            "|1000070642|Mike Corey's Dark...|         Music|        Music|     USD|2012-08-17|   250.00|2012-08-02 14:11:32|  250.00|successful|      7|     US|     250.00|          250.00|       250.00|\n",
            "|1000071625|            Boco Tea|          Food|         Food|     USD|2012-06-02|  5000.00|2012-05-03 17:24:32| 1781.00|    failed|     40|     US|    1781.00|         1781.00|      5000.00|\n",
            "+----------+--------------------+--------------+-------------+--------+----------+---------+-------------------+--------+----------+-------+-------+-----------+----------------+-------------+\n",
            "only showing top 20 rows\n",
            "\n"
          ],
          "name": "stdout"
        }
      ]
    },
    {
      "cell_type": "markdown",
      "metadata": {
        "id": "hRUhh-6KOvcY"
      },
      "source": [
        "### Dropping a Col"
      ]
    },
    {
      "cell_type": "code",
      "metadata": {
        "colab": {
          "base_uri": "https://localhost:8080/"
        },
        "id": "RipXk_a3FYJP",
        "outputId": "90656e92-f92d-4690-cec7-31d40a6ea678"
      },
      "source": [
        "#dropping the col name\n",
        "\n",
        "print('Shape = {}'.format((spark_df.count(), len(spark_df.columns))))\n",
        "spark_df.drop('name').show()"
      ],
      "execution_count": 36,
      "outputs": [
        {
          "output_type": "stream",
          "text": [
            "Shape = (103449, 15)\n",
            "+----------+--------------+-------------+--------+----------+---------+-------------------+--------+----------+-------+-------+-----------+----------------+-------------+\n",
            "|        ID|      category|main_category|currency|  deadline|     goal|           launched| pledged|     state|backers|country|usd pledged|usd_pledged_real|usd_goal_real|\n",
            "+----------+--------------+-------------+--------+----------+---------+-------------------+--------+----------+-------+-------+-----------+----------------+-------------+\n",
            "|1000002330|        Poetry|   Publishing|     GBP|2015-10-09|  1000.00|2015-08-11 12:12:28|    0.00|    failed|      0|     GB|       0.00|            0.00|      1533.95|\n",
            "|1000003930|Narrative Film| Film & Video|     USD|2017-11-01| 30000.00|2017-09-02 04:43:57| 2421.00|    failed|     15|     US|     100.00|         2421.00|     30000.00|\n",
            "|1000004038|Narrative Film| Film & Video|     USD|2013-02-26| 45000.00|2013-01-12 00:20:50|  220.00|    failed|      3|     US|     220.00|          220.00|     45000.00|\n",
            "|1000007540|         Music|        Music|     USD|2012-04-16|  5000.00|2012-03-17 03:24:11|    1.00|    failed|      1|     US|       1.00|            1.00|      5000.00|\n",
            "|1000011046|  Film & Video| Film & Video|     USD|2015-08-29| 19500.00|2015-07-04 08:35:03| 1283.00|  canceled|     14|     US|    1283.00|         1283.00|     19500.00|\n",
            "|1000014025|   Restaurants|         Food|     USD|2016-04-01| 50000.00|2016-02-26 13:38:27|52375.00|successful|    224|     US|   52375.00|        52375.00|     50000.00|\n",
            "|1000023410|          Food|         Food|     USD|2014-12-21|  1000.00|2014-12-01 18:30:44| 1205.00|successful|     16|     US|    1205.00|         1205.00|      1000.00|\n",
            "|1000030581|        Drinks|         Food|     USD|2016-03-17| 25000.00|2016-02-01 20:05:12|  453.00|    failed|     40|     US|     453.00|          453.00|     25000.00|\n",
            "|1000034518|Product Design|       Design|     USD|2014-05-29|125000.00|2014-04-24 18:14:43| 8233.00|  canceled|     58|     US|    8233.00|         8233.00|    125000.00|\n",
            "| 100004195|   Documentary| Film & Video|     USD|2014-08-10| 65000.00|2014-07-11 21:55:48| 6240.57|  canceled|     43|     US|    6240.57|         6240.57|     65000.00|\n",
            "| 100004721|    Nonfiction|   Publishing|     CAD|2013-10-09|  2500.00|2013-09-09 18:19:37|    0.00|    failed|      0|     CA|       0.00|            0.00|      2406.39|\n",
            "| 100005484|    Indie Rock|        Music|     USD|2013-04-08| 12500.00|2013-03-09 06:42:58|12700.00|successful|    100|     US|   12700.00|        12700.00|     12500.00|\n",
            "|1000055792|        Crafts|       Crafts|     USD|2014-10-02|  5000.00|2014-09-02 17:11:50|    0.00|    failed|      0|     US|       0.00|            0.00|      5000.00|\n",
            "|1000056157|         Games|        Games|     USD|2016-03-25|200000.00|2016-02-09 23:01:12|    0.00|    failed|      0|     US|       0.00|            0.00|    200000.00|\n",
            "|1000057089|Tabletop Games|        Games|     GBP|2017-05-03|  5000.00|2017-04-05 19:44:18|94175.00|successful|    761|     GB|   57763.78|       121857.33|      6469.73|\n",
            "|1000064368|        Design|       Design|     USD|2015-02-28|  2500.00|2015-01-29 02:10:53|  664.00|    failed|     11|     US|     664.00|          664.00|      2500.00|\n",
            "|1000064918|   Comic Books|       Comics|     USD|2014-11-08|  1500.00|2014-10-09 22:27:52|  395.00|    failed|     16|     US|     395.00|          395.00|      1500.00|\n",
            "|1000068480|     Art Books|   Publishing|     USD|2015-05-10|  3000.00|2015-04-10 21:20:54|  789.00|    failed|     20|     US|     789.00|          789.00|      3000.00|\n",
            "|1000070642|         Music|        Music|     USD|2012-08-17|   250.00|2012-08-02 14:11:32|  250.00|successful|      7|     US|     250.00|          250.00|       250.00|\n",
            "|1000071625|          Food|         Food|     USD|2012-06-02|  5000.00|2012-05-03 17:24:32| 1781.00|    failed|     40|     US|    1781.00|         1781.00|      5000.00|\n",
            "+----------+--------------+-------------+--------+----------+---------+-------------------+--------+----------+-------+-------+-----------+----------------+-------------+\n",
            "only showing top 20 rows\n",
            "\n"
          ],
          "name": "stdout"
        }
      ]
    },
    {
      "cell_type": "markdown",
      "metadata": {
        "id": "4PHyvtRmOyRY"
      },
      "source": [
        "# Dropping the null values"
      ]
    },
    {
      "cell_type": "markdown",
      "metadata": {
        "id": "Y-BYBlG_PIOA"
      },
      "source": [
        "#### Dropping by Default parameters"
      ]
    },
    {
      "cell_type": "code",
      "metadata": {
        "colab": {
          "base_uri": "https://localhost:8080/"
        },
        "id": "beMBhJiDLSCg",
        "outputId": "bcec7266-00d0-49f1-d151-a469f901e183"
      },
      "source": [
        "\n",
        "print('Shape = {}'.format((spark_df.na.drop().count(), len(spark_df.columns))))\n",
        "spark_df.na.drop().show() \n",
        "#by default parameters it will drop all rows where any of the col have null value"
      ],
      "execution_count": 41,
      "outputs": [
        {
          "output_type": "stream",
          "text": [
            "Shape = (102425, 15)\n",
            "+----------+--------------------+--------------+-------------+--------+----------+---------+-------------------+--------+----------+-------+-------+-----------+----------------+-------------+\n",
            "|        ID|                name|      category|main_category|currency|  deadline|     goal|           launched| pledged|     state|backers|country|usd pledged|usd_pledged_real|usd_goal_real|\n",
            "+----------+--------------------+--------------+-------------+--------+----------+---------+-------------------+--------+----------+-------+-------+-----------+----------------+-------------+\n",
            "|1000002330|The Songs of Adel...|        Poetry|   Publishing|     GBP|2015-10-09|  1000.00|2015-08-11 12:12:28|    0.00|    failed|      0|     GB|       0.00|            0.00|      1533.95|\n",
            "|1000003930|Greeting From Ear...|Narrative Film| Film & Video|     USD|2017-11-01| 30000.00|2017-09-02 04:43:57| 2421.00|    failed|     15|     US|     100.00|         2421.00|     30000.00|\n",
            "|1000004038|      Where is Hank?|Narrative Film| Film & Video|     USD|2013-02-26| 45000.00|2013-01-12 00:20:50|  220.00|    failed|      3|     US|     220.00|          220.00|     45000.00|\n",
            "|1000007540|ToshiCapital Reko...|         Music|        Music|     USD|2012-04-16|  5000.00|2012-03-17 03:24:11|    1.00|    failed|      1|     US|       1.00|            1.00|      5000.00|\n",
            "|1000011046|Community Film Pr...|  Film & Video| Film & Video|     USD|2015-08-29| 19500.00|2015-07-04 08:35:03| 1283.00|  canceled|     14|     US|    1283.00|         1283.00|     19500.00|\n",
            "|1000014025|Monarch Espresso Bar|   Restaurants|         Food|     USD|2016-04-01| 50000.00|2016-02-26 13:38:27|52375.00|successful|    224|     US|   52375.00|        52375.00|     50000.00|\n",
            "|1000023410|Support Solar Roa...|          Food|         Food|     USD|2014-12-21|  1000.00|2014-12-01 18:30:44| 1205.00|successful|     16|     US|    1205.00|         1205.00|      1000.00|\n",
            "|1000030581|Chaser Strips. Ou...|        Drinks|         Food|     USD|2016-03-17| 25000.00|2016-02-01 20:05:12|  453.00|    failed|     40|     US|     453.00|          453.00|     25000.00|\n",
            "|1000034518|SPIN - Premium Re...|Product Design|       Design|     USD|2014-05-29|125000.00|2014-04-24 18:14:43| 8233.00|  canceled|     58|     US|    8233.00|         8233.00|    125000.00|\n",
            "| 100004195|STUDIO IN THE SKY...|   Documentary| Film & Video|     USD|2014-08-10| 65000.00|2014-07-11 21:55:48| 6240.57|  canceled|     43|     US|    6240.57|         6240.57|     65000.00|\n",
            "| 100004721| Of Jesus and Madmen|    Nonfiction|   Publishing|     CAD|2013-10-09|  2500.00|2013-09-09 18:19:37|    0.00|    failed|      0|     CA|       0.00|            0.00|      2406.39|\n",
            "| 100005484|    Lisa Lim New CD!|    Indie Rock|        Music|     USD|2013-04-08| 12500.00|2013-03-09 06:42:58|12700.00|successful|    100|     US|   12700.00|        12700.00|     12500.00|\n",
            "|1000055792|  The Cottage Market|        Crafts|       Crafts|     USD|2014-10-02|  5000.00|2014-09-02 17:11:50|    0.00|    failed|      0|     US|       0.00|            0.00|      5000.00|\n",
            "|1000056157|G-Spot Place for ...|         Games|        Games|     USD|2016-03-25|200000.00|2016-02-09 23:01:12|    0.00|    failed|      0|     US|       0.00|            0.00|    200000.00|\n",
            "|1000057089|Tombstone: Old We...|Tabletop Games|        Games|     GBP|2017-05-03|  5000.00|2017-04-05 19:44:18|94175.00|successful|    761|     GB|   57763.78|       121857.33|      6469.73|\n",
            "|1000064368|      Survival Rings|        Design|       Design|     USD|2015-02-28|  2500.00|2015-01-29 02:10:53|  664.00|    failed|     11|     US|     664.00|          664.00|      2500.00|\n",
            "|1000064918|           The Beard|   Comic Books|       Comics|     USD|2014-11-08|  1500.00|2014-10-09 22:27:52|  395.00|    failed|     16|     US|     395.00|          395.00|      1500.00|\n",
            "|1000068480|Notes From London...|     Art Books|   Publishing|     USD|2015-05-10|  3000.00|2015-04-10 21:20:54|  789.00|    failed|     20|     US|     789.00|          789.00|      3000.00|\n",
            "|1000070642|Mike Corey's Dark...|         Music|        Music|     USD|2012-08-17|   250.00|2012-08-02 14:11:32|  250.00|successful|      7|     US|     250.00|          250.00|       250.00|\n",
            "|1000071625|            Boco Tea|          Food|         Food|     USD|2012-06-02|  5000.00|2012-05-03 17:24:32| 1781.00|    failed|     40|     US|    1781.00|         1781.00|      5000.00|\n",
            "+----------+--------------------+--------------+-------------+--------+----------+---------+-------------------+--------+----------+-------+-------+-----------+----------------+-------------+\n",
            "only showing top 20 rows\n",
            "\n"
          ],
          "name": "stdout"
        }
      ]
    },
    {
      "cell_type": "markdown",
      "metadata": {
        "id": "GxLkLlVMPVEt"
      },
      "source": [
        "#### How = ALL"
      ]
    },
    {
      "cell_type": "code",
      "metadata": {
        "colab": {
          "base_uri": "https://localhost:8080/"
        },
        "id": "CbA63ioQPFxr",
        "outputId": "78798ded-fccc-4f24-a24c-6bef66a148d8"
      },
      "source": [
        "#how = All \n",
        "'''\n",
        "how = all means it will drop only that row where all\n",
        "the columns contains null values'''\n",
        "\n",
        "print('Shape = {}'.format((spark_df.na.drop(how = 'all').count(), len(spark_df.columns))))\n",
        "spark_df.na.drop(how = 'all').show()\n"
      ],
      "execution_count": 40,
      "outputs": [
        {
          "output_type": "stream",
          "text": [
            "Shape = (103449, 15)\n",
            "+----------+--------------------+--------------+-------------+--------+----------+---------+-------------------+--------+----------+-------+-------+-----------+----------------+-------------+\n",
            "|        ID|                name|      category|main_category|currency|  deadline|     goal|           launched| pledged|     state|backers|country|usd pledged|usd_pledged_real|usd_goal_real|\n",
            "+----------+--------------------+--------------+-------------+--------+----------+---------+-------------------+--------+----------+-------+-------+-----------+----------------+-------------+\n",
            "|1000002330|The Songs of Adel...|        Poetry|   Publishing|     GBP|2015-10-09|  1000.00|2015-08-11 12:12:28|    0.00|    failed|      0|     GB|       0.00|            0.00|      1533.95|\n",
            "|1000003930|Greeting From Ear...|Narrative Film| Film & Video|     USD|2017-11-01| 30000.00|2017-09-02 04:43:57| 2421.00|    failed|     15|     US|     100.00|         2421.00|     30000.00|\n",
            "|1000004038|      Where is Hank?|Narrative Film| Film & Video|     USD|2013-02-26| 45000.00|2013-01-12 00:20:50|  220.00|    failed|      3|     US|     220.00|          220.00|     45000.00|\n",
            "|1000007540|ToshiCapital Reko...|         Music|        Music|     USD|2012-04-16|  5000.00|2012-03-17 03:24:11|    1.00|    failed|      1|     US|       1.00|            1.00|      5000.00|\n",
            "|1000011046|Community Film Pr...|  Film & Video| Film & Video|     USD|2015-08-29| 19500.00|2015-07-04 08:35:03| 1283.00|  canceled|     14|     US|    1283.00|         1283.00|     19500.00|\n",
            "|1000014025|Monarch Espresso Bar|   Restaurants|         Food|     USD|2016-04-01| 50000.00|2016-02-26 13:38:27|52375.00|successful|    224|     US|   52375.00|        52375.00|     50000.00|\n",
            "|1000023410|Support Solar Roa...|          Food|         Food|     USD|2014-12-21|  1000.00|2014-12-01 18:30:44| 1205.00|successful|     16|     US|    1205.00|         1205.00|      1000.00|\n",
            "|1000030581|Chaser Strips. Ou...|        Drinks|         Food|     USD|2016-03-17| 25000.00|2016-02-01 20:05:12|  453.00|    failed|     40|     US|     453.00|          453.00|     25000.00|\n",
            "|1000034518|SPIN - Premium Re...|Product Design|       Design|     USD|2014-05-29|125000.00|2014-04-24 18:14:43| 8233.00|  canceled|     58|     US|    8233.00|         8233.00|    125000.00|\n",
            "| 100004195|STUDIO IN THE SKY...|   Documentary| Film & Video|     USD|2014-08-10| 65000.00|2014-07-11 21:55:48| 6240.57|  canceled|     43|     US|    6240.57|         6240.57|     65000.00|\n",
            "| 100004721| Of Jesus and Madmen|    Nonfiction|   Publishing|     CAD|2013-10-09|  2500.00|2013-09-09 18:19:37|    0.00|    failed|      0|     CA|       0.00|            0.00|      2406.39|\n",
            "| 100005484|    Lisa Lim New CD!|    Indie Rock|        Music|     USD|2013-04-08| 12500.00|2013-03-09 06:42:58|12700.00|successful|    100|     US|   12700.00|        12700.00|     12500.00|\n",
            "|1000055792|  The Cottage Market|        Crafts|       Crafts|     USD|2014-10-02|  5000.00|2014-09-02 17:11:50|    0.00|    failed|      0|     US|       0.00|            0.00|      5000.00|\n",
            "|1000056157|G-Spot Place for ...|         Games|        Games|     USD|2016-03-25|200000.00|2016-02-09 23:01:12|    0.00|    failed|      0|     US|       0.00|            0.00|    200000.00|\n",
            "|1000057089|Tombstone: Old We...|Tabletop Games|        Games|     GBP|2017-05-03|  5000.00|2017-04-05 19:44:18|94175.00|successful|    761|     GB|   57763.78|       121857.33|      6469.73|\n",
            "|1000064368|      Survival Rings|        Design|       Design|     USD|2015-02-28|  2500.00|2015-01-29 02:10:53|  664.00|    failed|     11|     US|     664.00|          664.00|      2500.00|\n",
            "|1000064918|           The Beard|   Comic Books|       Comics|     USD|2014-11-08|  1500.00|2014-10-09 22:27:52|  395.00|    failed|     16|     US|     395.00|          395.00|      1500.00|\n",
            "|1000068480|Notes From London...|     Art Books|   Publishing|     USD|2015-05-10|  3000.00|2015-04-10 21:20:54|  789.00|    failed|     20|     US|     789.00|          789.00|      3000.00|\n",
            "|1000070642|Mike Corey's Dark...|         Music|        Music|     USD|2012-08-17|   250.00|2012-08-02 14:11:32|  250.00|successful|      7|     US|     250.00|          250.00|       250.00|\n",
            "|1000071625|            Boco Tea|          Food|         Food|     USD|2012-06-02|  5000.00|2012-05-03 17:24:32| 1781.00|    failed|     40|     US|    1781.00|         1781.00|      5000.00|\n",
            "+----------+--------------------+--------------+-------------+--------+----------+---------+-------------------+--------+----------+-------+-------+-----------+----------------+-------------+\n",
            "only showing top 20 rows\n",
            "\n"
          ],
          "name": "stdout"
        }
      ]
    },
    {
      "cell_type": "markdown",
      "metadata": {
        "id": "wXiucpqLQEoi"
      },
      "source": [
        "#### HOW = ANY (Default)"
      ]
    },
    {
      "cell_type": "code",
      "metadata": {
        "colab": {
          "base_uri": "https://localhost:8080/"
        },
        "id": "_tf8N1tEQCLN",
        "outputId": "de48cb27-4ff7-4c1c-b11a-801b0c0f6109"
      },
      "source": [
        "#how = any\n",
        "'''\n",
        "how = any means it will drop those rows where any of \n",
        "the column of that particular row contains a null value'''\n",
        "print('Shape = {}'.format((spark_df.na.drop(how = 'any').count(), len(spark_df.columns))))\n",
        "spark_df.na.drop(how = 'any').show()\n"
      ],
      "execution_count": 42,
      "outputs": [
        {
          "output_type": "stream",
          "text": [
            "Shape = (102425, 15)\n",
            "+----------+--------------------+--------------+-------------+--------+----------+---------+-------------------+--------+----------+-------+-------+-----------+----------------+-------------+\n",
            "|        ID|                name|      category|main_category|currency|  deadline|     goal|           launched| pledged|     state|backers|country|usd pledged|usd_pledged_real|usd_goal_real|\n",
            "+----------+--------------------+--------------+-------------+--------+----------+---------+-------------------+--------+----------+-------+-------+-----------+----------------+-------------+\n",
            "|1000002330|The Songs of Adel...|        Poetry|   Publishing|     GBP|2015-10-09|  1000.00|2015-08-11 12:12:28|    0.00|    failed|      0|     GB|       0.00|            0.00|      1533.95|\n",
            "|1000003930|Greeting From Ear...|Narrative Film| Film & Video|     USD|2017-11-01| 30000.00|2017-09-02 04:43:57| 2421.00|    failed|     15|     US|     100.00|         2421.00|     30000.00|\n",
            "|1000004038|      Where is Hank?|Narrative Film| Film & Video|     USD|2013-02-26| 45000.00|2013-01-12 00:20:50|  220.00|    failed|      3|     US|     220.00|          220.00|     45000.00|\n",
            "|1000007540|ToshiCapital Reko...|         Music|        Music|     USD|2012-04-16|  5000.00|2012-03-17 03:24:11|    1.00|    failed|      1|     US|       1.00|            1.00|      5000.00|\n",
            "|1000011046|Community Film Pr...|  Film & Video| Film & Video|     USD|2015-08-29| 19500.00|2015-07-04 08:35:03| 1283.00|  canceled|     14|     US|    1283.00|         1283.00|     19500.00|\n",
            "|1000014025|Monarch Espresso Bar|   Restaurants|         Food|     USD|2016-04-01| 50000.00|2016-02-26 13:38:27|52375.00|successful|    224|     US|   52375.00|        52375.00|     50000.00|\n",
            "|1000023410|Support Solar Roa...|          Food|         Food|     USD|2014-12-21|  1000.00|2014-12-01 18:30:44| 1205.00|successful|     16|     US|    1205.00|         1205.00|      1000.00|\n",
            "|1000030581|Chaser Strips. Ou...|        Drinks|         Food|     USD|2016-03-17| 25000.00|2016-02-01 20:05:12|  453.00|    failed|     40|     US|     453.00|          453.00|     25000.00|\n",
            "|1000034518|SPIN - Premium Re...|Product Design|       Design|     USD|2014-05-29|125000.00|2014-04-24 18:14:43| 8233.00|  canceled|     58|     US|    8233.00|         8233.00|    125000.00|\n",
            "| 100004195|STUDIO IN THE SKY...|   Documentary| Film & Video|     USD|2014-08-10| 65000.00|2014-07-11 21:55:48| 6240.57|  canceled|     43|     US|    6240.57|         6240.57|     65000.00|\n",
            "| 100004721| Of Jesus and Madmen|    Nonfiction|   Publishing|     CAD|2013-10-09|  2500.00|2013-09-09 18:19:37|    0.00|    failed|      0|     CA|       0.00|            0.00|      2406.39|\n",
            "| 100005484|    Lisa Lim New CD!|    Indie Rock|        Music|     USD|2013-04-08| 12500.00|2013-03-09 06:42:58|12700.00|successful|    100|     US|   12700.00|        12700.00|     12500.00|\n",
            "|1000055792|  The Cottage Market|        Crafts|       Crafts|     USD|2014-10-02|  5000.00|2014-09-02 17:11:50|    0.00|    failed|      0|     US|       0.00|            0.00|      5000.00|\n",
            "|1000056157|G-Spot Place for ...|         Games|        Games|     USD|2016-03-25|200000.00|2016-02-09 23:01:12|    0.00|    failed|      0|     US|       0.00|            0.00|    200000.00|\n",
            "|1000057089|Tombstone: Old We...|Tabletop Games|        Games|     GBP|2017-05-03|  5000.00|2017-04-05 19:44:18|94175.00|successful|    761|     GB|   57763.78|       121857.33|      6469.73|\n",
            "|1000064368|      Survival Rings|        Design|       Design|     USD|2015-02-28|  2500.00|2015-01-29 02:10:53|  664.00|    failed|     11|     US|     664.00|          664.00|      2500.00|\n",
            "|1000064918|           The Beard|   Comic Books|       Comics|     USD|2014-11-08|  1500.00|2014-10-09 22:27:52|  395.00|    failed|     16|     US|     395.00|          395.00|      1500.00|\n",
            "|1000068480|Notes From London...|     Art Books|   Publishing|     USD|2015-05-10|  3000.00|2015-04-10 21:20:54|  789.00|    failed|     20|     US|     789.00|          789.00|      3000.00|\n",
            "|1000070642|Mike Corey's Dark...|         Music|        Music|     USD|2012-08-17|   250.00|2012-08-02 14:11:32|  250.00|successful|      7|     US|     250.00|          250.00|       250.00|\n",
            "|1000071625|            Boco Tea|          Food|         Food|     USD|2012-06-02|  5000.00|2012-05-03 17:24:32| 1781.00|    failed|     40|     US|    1781.00|         1781.00|      5000.00|\n",
            "+----------+--------------------+--------------+-------------+--------+----------+---------+-------------------+--------+----------+-------+-------+-----------+----------------+-------------+\n",
            "only showing top 20 rows\n",
            "\n"
          ],
          "name": "stdout"
        }
      ]
    },
    {
      "cell_type": "markdown",
      "metadata": {
        "id": "0zJhDR1AQxIs"
      },
      "source": [
        "#### Drop Threshold parameter (Default = None)"
      ]
    },
    {
      "cell_type": "code",
      "metadata": {
        "colab": {
          "base_uri": "https://localhost:8080/"
        },
        "id": "fcJ9ITCOQihR",
        "outputId": "a1ab12a4-93cf-4607-e5c3-4182d492bc75"
      },
      "source": [
        "\n",
        "\"\"\"\n",
        "Thresh requires an int value.\n",
        "thresh = 2 means that it will check that whehter that particular\n",
        "row contains atleast 2 non-null values, if yes it will not be deleted. \n",
        "\"\"\"\n",
        "print('Shape = {}'.format((spark_df.na.drop(how = 'any', thresh = 2).count(), len(spark_df.columns))))\n",
        "spark_df.na.drop(how = 'any',\n",
        "                 thresh = 2).show()"
      ],
      "execution_count": 44,
      "outputs": [
        {
          "output_type": "stream",
          "text": [
            "Shape = (103449, 15)\n",
            "+----------+--------------------+--------------+-------------+--------+----------+---------+-------------------+--------+----------+-------+-------+-----------+----------------+-------------+\n",
            "|        ID|                name|      category|main_category|currency|  deadline|     goal|           launched| pledged|     state|backers|country|usd pledged|usd_pledged_real|usd_goal_real|\n",
            "+----------+--------------------+--------------+-------------+--------+----------+---------+-------------------+--------+----------+-------+-------+-----------+----------------+-------------+\n",
            "|1000002330|The Songs of Adel...|        Poetry|   Publishing|     GBP|2015-10-09|  1000.00|2015-08-11 12:12:28|    0.00|    failed|      0|     GB|       0.00|            0.00|      1533.95|\n",
            "|1000003930|Greeting From Ear...|Narrative Film| Film & Video|     USD|2017-11-01| 30000.00|2017-09-02 04:43:57| 2421.00|    failed|     15|     US|     100.00|         2421.00|     30000.00|\n",
            "|1000004038|      Where is Hank?|Narrative Film| Film & Video|     USD|2013-02-26| 45000.00|2013-01-12 00:20:50|  220.00|    failed|      3|     US|     220.00|          220.00|     45000.00|\n",
            "|1000007540|ToshiCapital Reko...|         Music|        Music|     USD|2012-04-16|  5000.00|2012-03-17 03:24:11|    1.00|    failed|      1|     US|       1.00|            1.00|      5000.00|\n",
            "|1000011046|Community Film Pr...|  Film & Video| Film & Video|     USD|2015-08-29| 19500.00|2015-07-04 08:35:03| 1283.00|  canceled|     14|     US|    1283.00|         1283.00|     19500.00|\n",
            "|1000014025|Monarch Espresso Bar|   Restaurants|         Food|     USD|2016-04-01| 50000.00|2016-02-26 13:38:27|52375.00|successful|    224|     US|   52375.00|        52375.00|     50000.00|\n",
            "|1000023410|Support Solar Roa...|          Food|         Food|     USD|2014-12-21|  1000.00|2014-12-01 18:30:44| 1205.00|successful|     16|     US|    1205.00|         1205.00|      1000.00|\n",
            "|1000030581|Chaser Strips. Ou...|        Drinks|         Food|     USD|2016-03-17| 25000.00|2016-02-01 20:05:12|  453.00|    failed|     40|     US|     453.00|          453.00|     25000.00|\n",
            "|1000034518|SPIN - Premium Re...|Product Design|       Design|     USD|2014-05-29|125000.00|2014-04-24 18:14:43| 8233.00|  canceled|     58|     US|    8233.00|         8233.00|    125000.00|\n",
            "| 100004195|STUDIO IN THE SKY...|   Documentary| Film & Video|     USD|2014-08-10| 65000.00|2014-07-11 21:55:48| 6240.57|  canceled|     43|     US|    6240.57|         6240.57|     65000.00|\n",
            "| 100004721| Of Jesus and Madmen|    Nonfiction|   Publishing|     CAD|2013-10-09|  2500.00|2013-09-09 18:19:37|    0.00|    failed|      0|     CA|       0.00|            0.00|      2406.39|\n",
            "| 100005484|    Lisa Lim New CD!|    Indie Rock|        Music|     USD|2013-04-08| 12500.00|2013-03-09 06:42:58|12700.00|successful|    100|     US|   12700.00|        12700.00|     12500.00|\n",
            "|1000055792|  The Cottage Market|        Crafts|       Crafts|     USD|2014-10-02|  5000.00|2014-09-02 17:11:50|    0.00|    failed|      0|     US|       0.00|            0.00|      5000.00|\n",
            "|1000056157|G-Spot Place for ...|         Games|        Games|     USD|2016-03-25|200000.00|2016-02-09 23:01:12|    0.00|    failed|      0|     US|       0.00|            0.00|    200000.00|\n",
            "|1000057089|Tombstone: Old We...|Tabletop Games|        Games|     GBP|2017-05-03|  5000.00|2017-04-05 19:44:18|94175.00|successful|    761|     GB|   57763.78|       121857.33|      6469.73|\n",
            "|1000064368|      Survival Rings|        Design|       Design|     USD|2015-02-28|  2500.00|2015-01-29 02:10:53|  664.00|    failed|     11|     US|     664.00|          664.00|      2500.00|\n",
            "|1000064918|           The Beard|   Comic Books|       Comics|     USD|2014-11-08|  1500.00|2014-10-09 22:27:52|  395.00|    failed|     16|     US|     395.00|          395.00|      1500.00|\n",
            "|1000068480|Notes From London...|     Art Books|   Publishing|     USD|2015-05-10|  3000.00|2015-04-10 21:20:54|  789.00|    failed|     20|     US|     789.00|          789.00|      3000.00|\n",
            "|1000070642|Mike Corey's Dark...|         Music|        Music|     USD|2012-08-17|   250.00|2012-08-02 14:11:32|  250.00|successful|      7|     US|     250.00|          250.00|       250.00|\n",
            "|1000071625|            Boco Tea|          Food|         Food|     USD|2012-06-02|  5000.00|2012-05-03 17:24:32| 1781.00|    failed|     40|     US|    1781.00|         1781.00|      5000.00|\n",
            "+----------+--------------------+--------------+-------------+--------+----------+---------+-------------------+--------+----------+-------+-------+-----------+----------------+-------------+\n",
            "only showing top 20 rows\n",
            "\n"
          ],
          "name": "stdout"
        }
      ]
    },
    {
      "cell_type": "code",
      "metadata": {
        "colab": {
          "base_uri": "https://localhost:8080/"
        },
        "id": "MaTxvBioRSdQ",
        "outputId": "ed8588c7-e5d6-45bf-868c-7e41d891f32e"
      },
      "source": [
        "\n",
        "\"\"\"\n",
        "Thresh requires an int value.\n",
        "thresh = 4 means that it will check that whehter that particular\n",
        "row contains atleast 5 non-null values, if yes it will not be deleted. \n",
        "\"\"\"\n",
        "print('Shape = {}'.format((spark_df.na.drop(how = 'any', thresh = 5).count(), len(spark_df.columns))))\n",
        "spark_df.na.drop(how = 'any',\n",
        "                 thresh = 5).show()"
      ],
      "execution_count": 46,
      "outputs": [
        {
          "output_type": "stream",
          "text": [
            "Shape = (103447, 15)\n",
            "+----------+--------------------+--------------+-------------+--------+----------+---------+-------------------+--------+----------+-------+-------+-----------+----------------+-------------+\n",
            "|        ID|                name|      category|main_category|currency|  deadline|     goal|           launched| pledged|     state|backers|country|usd pledged|usd_pledged_real|usd_goal_real|\n",
            "+----------+--------------------+--------------+-------------+--------+----------+---------+-------------------+--------+----------+-------+-------+-----------+----------------+-------------+\n",
            "|1000002330|The Songs of Adel...|        Poetry|   Publishing|     GBP|2015-10-09|  1000.00|2015-08-11 12:12:28|    0.00|    failed|      0|     GB|       0.00|            0.00|      1533.95|\n",
            "|1000003930|Greeting From Ear...|Narrative Film| Film & Video|     USD|2017-11-01| 30000.00|2017-09-02 04:43:57| 2421.00|    failed|     15|     US|     100.00|         2421.00|     30000.00|\n",
            "|1000004038|      Where is Hank?|Narrative Film| Film & Video|     USD|2013-02-26| 45000.00|2013-01-12 00:20:50|  220.00|    failed|      3|     US|     220.00|          220.00|     45000.00|\n",
            "|1000007540|ToshiCapital Reko...|         Music|        Music|     USD|2012-04-16|  5000.00|2012-03-17 03:24:11|    1.00|    failed|      1|     US|       1.00|            1.00|      5000.00|\n",
            "|1000011046|Community Film Pr...|  Film & Video| Film & Video|     USD|2015-08-29| 19500.00|2015-07-04 08:35:03| 1283.00|  canceled|     14|     US|    1283.00|         1283.00|     19500.00|\n",
            "|1000014025|Monarch Espresso Bar|   Restaurants|         Food|     USD|2016-04-01| 50000.00|2016-02-26 13:38:27|52375.00|successful|    224|     US|   52375.00|        52375.00|     50000.00|\n",
            "|1000023410|Support Solar Roa...|          Food|         Food|     USD|2014-12-21|  1000.00|2014-12-01 18:30:44| 1205.00|successful|     16|     US|    1205.00|         1205.00|      1000.00|\n",
            "|1000030581|Chaser Strips. Ou...|        Drinks|         Food|     USD|2016-03-17| 25000.00|2016-02-01 20:05:12|  453.00|    failed|     40|     US|     453.00|          453.00|     25000.00|\n",
            "|1000034518|SPIN - Premium Re...|Product Design|       Design|     USD|2014-05-29|125000.00|2014-04-24 18:14:43| 8233.00|  canceled|     58|     US|    8233.00|         8233.00|    125000.00|\n",
            "| 100004195|STUDIO IN THE SKY...|   Documentary| Film & Video|     USD|2014-08-10| 65000.00|2014-07-11 21:55:48| 6240.57|  canceled|     43|     US|    6240.57|         6240.57|     65000.00|\n",
            "| 100004721| Of Jesus and Madmen|    Nonfiction|   Publishing|     CAD|2013-10-09|  2500.00|2013-09-09 18:19:37|    0.00|    failed|      0|     CA|       0.00|            0.00|      2406.39|\n",
            "| 100005484|    Lisa Lim New CD!|    Indie Rock|        Music|     USD|2013-04-08| 12500.00|2013-03-09 06:42:58|12700.00|successful|    100|     US|   12700.00|        12700.00|     12500.00|\n",
            "|1000055792|  The Cottage Market|        Crafts|       Crafts|     USD|2014-10-02|  5000.00|2014-09-02 17:11:50|    0.00|    failed|      0|     US|       0.00|            0.00|      5000.00|\n",
            "|1000056157|G-Spot Place for ...|         Games|        Games|     USD|2016-03-25|200000.00|2016-02-09 23:01:12|    0.00|    failed|      0|     US|       0.00|            0.00|    200000.00|\n",
            "|1000057089|Tombstone: Old We...|Tabletop Games|        Games|     GBP|2017-05-03|  5000.00|2017-04-05 19:44:18|94175.00|successful|    761|     GB|   57763.78|       121857.33|      6469.73|\n",
            "|1000064368|      Survival Rings|        Design|       Design|     USD|2015-02-28|  2500.00|2015-01-29 02:10:53|  664.00|    failed|     11|     US|     664.00|          664.00|      2500.00|\n",
            "|1000064918|           The Beard|   Comic Books|       Comics|     USD|2014-11-08|  1500.00|2014-10-09 22:27:52|  395.00|    failed|     16|     US|     395.00|          395.00|      1500.00|\n",
            "|1000068480|Notes From London...|     Art Books|   Publishing|     USD|2015-05-10|  3000.00|2015-04-10 21:20:54|  789.00|    failed|     20|     US|     789.00|          789.00|      3000.00|\n",
            "|1000070642|Mike Corey's Dark...|         Music|        Music|     USD|2012-08-17|   250.00|2012-08-02 14:11:32|  250.00|successful|      7|     US|     250.00|          250.00|       250.00|\n",
            "|1000071625|            Boco Tea|          Food|         Food|     USD|2012-06-02|  5000.00|2012-05-03 17:24:32| 1781.00|    failed|     40|     US|    1781.00|         1781.00|      5000.00|\n",
            "+----------+--------------------+--------------+-------------+--------+----------+---------+-------------------+--------+----------+-------+-------+-----------+----------------+-------------+\n",
            "only showing top 20 rows\n",
            "\n"
          ],
          "name": "stdout"
        }
      ]
    },
    {
      "cell_type": "markdown",
      "metadata": {
        "id": "q0Gy1oXXT00K"
      },
      "source": [
        "#### Drop Subset parameter "
      ]
    },
    {
      "cell_type": "code",
      "metadata": {
        "colab": {
          "base_uri": "https://localhost:8080/"
        },
        "id": "95DIVjFbTchY",
        "outputId": "c6163c9a-5b18-4c0d-e999-45d4368383ac"
      },
      "source": [
        "'''\n",
        "subset, it will delete rows according to the targeted input col  name\n",
        "i-e \n",
        "subset = 'usd_goal_real' means that it will delete those rows where \n",
        "if and only if the usd_goal_real col consists of those null row-values\n",
        "\n",
        "'''\n",
        "print('Shape = {}'.format((spark_df.na.drop(subset = ['usd_goal_real']).count(), len(spark_df.columns))))\n",
        "spark_df.na.drop(subset = ['usd_goal_real']).show()"
      ],
      "execution_count": 58,
      "outputs": [
        {
          "output_type": "stream",
          "text": [
            "Shape = (103445, 15)\n",
            "+----------+--------------------+--------------+-------------+--------+----------+---------+-------------------+--------+----------+-------+-------+-----------+----------------+-------------+\n",
            "|        ID|                name|      category|main_category|currency|  deadline|     goal|           launched| pledged|     state|backers|country|usd pledged|usd_pledged_real|usd_goal_real|\n",
            "+----------+--------------------+--------------+-------------+--------+----------+---------+-------------------+--------+----------+-------+-------+-----------+----------------+-------------+\n",
            "|1000002330|The Songs of Adel...|        Poetry|   Publishing|     GBP|2015-10-09|  1000.00|2015-08-11 12:12:28|    0.00|    failed|      0|     GB|       0.00|            0.00|      1533.95|\n",
            "|1000003930|Greeting From Ear...|Narrative Film| Film & Video|     USD|2017-11-01| 30000.00|2017-09-02 04:43:57| 2421.00|    failed|     15|     US|     100.00|         2421.00|     30000.00|\n",
            "|1000004038|      Where is Hank?|Narrative Film| Film & Video|     USD|2013-02-26| 45000.00|2013-01-12 00:20:50|  220.00|    failed|      3|     US|     220.00|          220.00|     45000.00|\n",
            "|1000007540|ToshiCapital Reko...|         Music|        Music|     USD|2012-04-16|  5000.00|2012-03-17 03:24:11|    1.00|    failed|      1|     US|       1.00|            1.00|      5000.00|\n",
            "|1000011046|Community Film Pr...|  Film & Video| Film & Video|     USD|2015-08-29| 19500.00|2015-07-04 08:35:03| 1283.00|  canceled|     14|     US|    1283.00|         1283.00|     19500.00|\n",
            "|1000014025|Monarch Espresso Bar|   Restaurants|         Food|     USD|2016-04-01| 50000.00|2016-02-26 13:38:27|52375.00|successful|    224|     US|   52375.00|        52375.00|     50000.00|\n",
            "|1000023410|Support Solar Roa...|          Food|         Food|     USD|2014-12-21|  1000.00|2014-12-01 18:30:44| 1205.00|successful|     16|     US|    1205.00|         1205.00|      1000.00|\n",
            "|1000030581|Chaser Strips. Ou...|        Drinks|         Food|     USD|2016-03-17| 25000.00|2016-02-01 20:05:12|  453.00|    failed|     40|     US|     453.00|          453.00|     25000.00|\n",
            "|1000034518|SPIN - Premium Re...|Product Design|       Design|     USD|2014-05-29|125000.00|2014-04-24 18:14:43| 8233.00|  canceled|     58|     US|    8233.00|         8233.00|    125000.00|\n",
            "| 100004195|STUDIO IN THE SKY...|   Documentary| Film & Video|     USD|2014-08-10| 65000.00|2014-07-11 21:55:48| 6240.57|  canceled|     43|     US|    6240.57|         6240.57|     65000.00|\n",
            "| 100004721| Of Jesus and Madmen|    Nonfiction|   Publishing|     CAD|2013-10-09|  2500.00|2013-09-09 18:19:37|    0.00|    failed|      0|     CA|       0.00|            0.00|      2406.39|\n",
            "| 100005484|    Lisa Lim New CD!|    Indie Rock|        Music|     USD|2013-04-08| 12500.00|2013-03-09 06:42:58|12700.00|successful|    100|     US|   12700.00|        12700.00|     12500.00|\n",
            "|1000055792|  The Cottage Market|        Crafts|       Crafts|     USD|2014-10-02|  5000.00|2014-09-02 17:11:50|    0.00|    failed|      0|     US|       0.00|            0.00|      5000.00|\n",
            "|1000056157|G-Spot Place for ...|         Games|        Games|     USD|2016-03-25|200000.00|2016-02-09 23:01:12|    0.00|    failed|      0|     US|       0.00|            0.00|    200000.00|\n",
            "|1000057089|Tombstone: Old We...|Tabletop Games|        Games|     GBP|2017-05-03|  5000.00|2017-04-05 19:44:18|94175.00|successful|    761|     GB|   57763.78|       121857.33|      6469.73|\n",
            "|1000064368|      Survival Rings|        Design|       Design|     USD|2015-02-28|  2500.00|2015-01-29 02:10:53|  664.00|    failed|     11|     US|     664.00|          664.00|      2500.00|\n",
            "|1000064918|           The Beard|   Comic Books|       Comics|     USD|2014-11-08|  1500.00|2014-10-09 22:27:52|  395.00|    failed|     16|     US|     395.00|          395.00|      1500.00|\n",
            "|1000068480|Notes From London...|     Art Books|   Publishing|     USD|2015-05-10|  3000.00|2015-04-10 21:20:54|  789.00|    failed|     20|     US|     789.00|          789.00|      3000.00|\n",
            "|1000070642|Mike Corey's Dark...|         Music|        Music|     USD|2012-08-17|   250.00|2012-08-02 14:11:32|  250.00|successful|      7|     US|     250.00|          250.00|       250.00|\n",
            "|1000071625|            Boco Tea|          Food|         Food|     USD|2012-06-02|  5000.00|2012-05-03 17:24:32| 1781.00|    failed|     40|     US|    1781.00|         1781.00|      5000.00|\n",
            "+----------+--------------------+--------------+-------------+--------+----------+---------+-------------------+--------+----------+-------+-------+-----------+----------------+-------------+\n",
            "only showing top 20 rows\n",
            "\n"
          ],
          "name": "stdout"
        }
      ]
    },
    {
      "cell_type": "code",
      "metadata": {
        "colab": {
          "base_uri": "https://localhost:8080/"
        },
        "id": "gsjPWUseUthk",
        "outputId": "67c9f5c3-3731-4d0f-8a9e-f0f48ef5abe3"
      },
      "source": [
        "\n",
        "print('Shape = {}'.format((spark_df.na.drop(subset = ['usd pledged']).count(), len(spark_df.columns))))\n",
        "spark_df.na.drop(subset = ['usd pledged']).show()"
      ],
      "execution_count": 59,
      "outputs": [
        {
          "output_type": "stream",
          "text": [
            "Shape = (102427, 15)\n",
            "+----------+--------------------+--------------+-------------+--------+----------+---------+-------------------+--------+----------+-------+-------+-----------+----------------+-------------+\n",
            "|        ID|                name|      category|main_category|currency|  deadline|     goal|           launched| pledged|     state|backers|country|usd pledged|usd_pledged_real|usd_goal_real|\n",
            "+----------+--------------------+--------------+-------------+--------+----------+---------+-------------------+--------+----------+-------+-------+-----------+----------------+-------------+\n",
            "|1000002330|The Songs of Adel...|        Poetry|   Publishing|     GBP|2015-10-09|  1000.00|2015-08-11 12:12:28|    0.00|    failed|      0|     GB|       0.00|            0.00|      1533.95|\n",
            "|1000003930|Greeting From Ear...|Narrative Film| Film & Video|     USD|2017-11-01| 30000.00|2017-09-02 04:43:57| 2421.00|    failed|     15|     US|     100.00|         2421.00|     30000.00|\n",
            "|1000004038|      Where is Hank?|Narrative Film| Film & Video|     USD|2013-02-26| 45000.00|2013-01-12 00:20:50|  220.00|    failed|      3|     US|     220.00|          220.00|     45000.00|\n",
            "|1000007540|ToshiCapital Reko...|         Music|        Music|     USD|2012-04-16|  5000.00|2012-03-17 03:24:11|    1.00|    failed|      1|     US|       1.00|            1.00|      5000.00|\n",
            "|1000011046|Community Film Pr...|  Film & Video| Film & Video|     USD|2015-08-29| 19500.00|2015-07-04 08:35:03| 1283.00|  canceled|     14|     US|    1283.00|         1283.00|     19500.00|\n",
            "|1000014025|Monarch Espresso Bar|   Restaurants|         Food|     USD|2016-04-01| 50000.00|2016-02-26 13:38:27|52375.00|successful|    224|     US|   52375.00|        52375.00|     50000.00|\n",
            "|1000023410|Support Solar Roa...|          Food|         Food|     USD|2014-12-21|  1000.00|2014-12-01 18:30:44| 1205.00|successful|     16|     US|    1205.00|         1205.00|      1000.00|\n",
            "|1000030581|Chaser Strips. Ou...|        Drinks|         Food|     USD|2016-03-17| 25000.00|2016-02-01 20:05:12|  453.00|    failed|     40|     US|     453.00|          453.00|     25000.00|\n",
            "|1000034518|SPIN - Premium Re...|Product Design|       Design|     USD|2014-05-29|125000.00|2014-04-24 18:14:43| 8233.00|  canceled|     58|     US|    8233.00|         8233.00|    125000.00|\n",
            "| 100004195|STUDIO IN THE SKY...|   Documentary| Film & Video|     USD|2014-08-10| 65000.00|2014-07-11 21:55:48| 6240.57|  canceled|     43|     US|    6240.57|         6240.57|     65000.00|\n",
            "| 100004721| Of Jesus and Madmen|    Nonfiction|   Publishing|     CAD|2013-10-09|  2500.00|2013-09-09 18:19:37|    0.00|    failed|      0|     CA|       0.00|            0.00|      2406.39|\n",
            "| 100005484|    Lisa Lim New CD!|    Indie Rock|        Music|     USD|2013-04-08| 12500.00|2013-03-09 06:42:58|12700.00|successful|    100|     US|   12700.00|        12700.00|     12500.00|\n",
            "|1000055792|  The Cottage Market|        Crafts|       Crafts|     USD|2014-10-02|  5000.00|2014-09-02 17:11:50|    0.00|    failed|      0|     US|       0.00|            0.00|      5000.00|\n",
            "|1000056157|G-Spot Place for ...|         Games|        Games|     USD|2016-03-25|200000.00|2016-02-09 23:01:12|    0.00|    failed|      0|     US|       0.00|            0.00|    200000.00|\n",
            "|1000057089|Tombstone: Old We...|Tabletop Games|        Games|     GBP|2017-05-03|  5000.00|2017-04-05 19:44:18|94175.00|successful|    761|     GB|   57763.78|       121857.33|      6469.73|\n",
            "|1000064368|      Survival Rings|        Design|       Design|     USD|2015-02-28|  2500.00|2015-01-29 02:10:53|  664.00|    failed|     11|     US|     664.00|          664.00|      2500.00|\n",
            "|1000064918|           The Beard|   Comic Books|       Comics|     USD|2014-11-08|  1500.00|2014-10-09 22:27:52|  395.00|    failed|     16|     US|     395.00|          395.00|      1500.00|\n",
            "|1000068480|Notes From London...|     Art Books|   Publishing|     USD|2015-05-10|  3000.00|2015-04-10 21:20:54|  789.00|    failed|     20|     US|     789.00|          789.00|      3000.00|\n",
            "|1000070642|Mike Corey's Dark...|         Music|        Music|     USD|2012-08-17|   250.00|2012-08-02 14:11:32|  250.00|successful|      7|     US|     250.00|          250.00|       250.00|\n",
            "|1000071625|            Boco Tea|          Food|         Food|     USD|2012-06-02|  5000.00|2012-05-03 17:24:32| 1781.00|    failed|     40|     US|    1781.00|         1781.00|      5000.00|\n",
            "+----------+--------------------+--------------+-------------+--------+----------+---------+-------------------+--------+----------+-------+-------+-----------+----------------+-------------+\n",
            "only showing top 20 rows\n",
            "\n"
          ],
          "name": "stdout"
        }
      ]
    },
    {
      "cell_type": "markdown",
      "metadata": {
        "id": "ATx1HspHV71L"
      },
      "source": [
        "#### Filling the missing values"
      ]
    },
    {
      "cell_type": "code",
      "metadata": {
        "colab": {
          "base_uri": "https://localhost:8080/"
        },
        "id": "_0c81oqdVzlr",
        "outputId": "b38b5a91-a0d2-4554-eeae-13f8cd6f2d42"
      },
      "source": [
        "spark_df.na.fill(value = 'Destroy Israel').show()\n",
        "#it will replace all the null values with destroy Israel"
      ],
      "execution_count": 62,
      "outputs": [
        {
          "output_type": "stream",
          "text": [
            "+----------+--------------------+--------------+-------------+--------+----------+---------+-------------------+--------+----------+-------+-------+-----------+----------------+-------------+\n",
            "|        ID|                name|      category|main_category|currency|  deadline|     goal|           launched| pledged|     state|backers|country|usd pledged|usd_pledged_real|usd_goal_real|\n",
            "+----------+--------------------+--------------+-------------+--------+----------+---------+-------------------+--------+----------+-------+-------+-----------+----------------+-------------+\n",
            "|1000002330|The Songs of Adel...|        Poetry|   Publishing|     GBP|2015-10-09|  1000.00|2015-08-11 12:12:28|    0.00|    failed|      0|     GB|       0.00|            0.00|      1533.95|\n",
            "|1000003930|Greeting From Ear...|Narrative Film| Film & Video|     USD|2017-11-01| 30000.00|2017-09-02 04:43:57| 2421.00|    failed|     15|     US|     100.00|         2421.00|     30000.00|\n",
            "|1000004038|      Where is Hank?|Narrative Film| Film & Video|     USD|2013-02-26| 45000.00|2013-01-12 00:20:50|  220.00|    failed|      3|     US|     220.00|          220.00|     45000.00|\n",
            "|1000007540|ToshiCapital Reko...|         Music|        Music|     USD|2012-04-16|  5000.00|2012-03-17 03:24:11|    1.00|    failed|      1|     US|       1.00|            1.00|      5000.00|\n",
            "|1000011046|Community Film Pr...|  Film & Video| Film & Video|     USD|2015-08-29| 19500.00|2015-07-04 08:35:03| 1283.00|  canceled|     14|     US|    1283.00|         1283.00|     19500.00|\n",
            "|1000014025|Monarch Espresso Bar|   Restaurants|         Food|     USD|2016-04-01| 50000.00|2016-02-26 13:38:27|52375.00|successful|    224|     US|   52375.00|        52375.00|     50000.00|\n",
            "|1000023410|Support Solar Roa...|          Food|         Food|     USD|2014-12-21|  1000.00|2014-12-01 18:30:44| 1205.00|successful|     16|     US|    1205.00|         1205.00|      1000.00|\n",
            "|1000030581|Chaser Strips. Ou...|        Drinks|         Food|     USD|2016-03-17| 25000.00|2016-02-01 20:05:12|  453.00|    failed|     40|     US|     453.00|          453.00|     25000.00|\n",
            "|1000034518|SPIN - Premium Re...|Product Design|       Design|     USD|2014-05-29|125000.00|2014-04-24 18:14:43| 8233.00|  canceled|     58|     US|    8233.00|         8233.00|    125000.00|\n",
            "| 100004195|STUDIO IN THE SKY...|   Documentary| Film & Video|     USD|2014-08-10| 65000.00|2014-07-11 21:55:48| 6240.57|  canceled|     43|     US|    6240.57|         6240.57|     65000.00|\n",
            "| 100004721| Of Jesus and Madmen|    Nonfiction|   Publishing|     CAD|2013-10-09|  2500.00|2013-09-09 18:19:37|    0.00|    failed|      0|     CA|       0.00|            0.00|      2406.39|\n",
            "| 100005484|    Lisa Lim New CD!|    Indie Rock|        Music|     USD|2013-04-08| 12500.00|2013-03-09 06:42:58|12700.00|successful|    100|     US|   12700.00|        12700.00|     12500.00|\n",
            "|1000055792|  The Cottage Market|        Crafts|       Crafts|     USD|2014-10-02|  5000.00|2014-09-02 17:11:50|    0.00|    failed|      0|     US|       0.00|            0.00|      5000.00|\n",
            "|1000056157|G-Spot Place for ...|         Games|        Games|     USD|2016-03-25|200000.00|2016-02-09 23:01:12|    0.00|    failed|      0|     US|       0.00|            0.00|    200000.00|\n",
            "|1000057089|Tombstone: Old We...|Tabletop Games|        Games|     GBP|2017-05-03|  5000.00|2017-04-05 19:44:18|94175.00|successful|    761|     GB|   57763.78|       121857.33|      6469.73|\n",
            "|1000064368|      Survival Rings|        Design|       Design|     USD|2015-02-28|  2500.00|2015-01-29 02:10:53|  664.00|    failed|     11|     US|     664.00|          664.00|      2500.00|\n",
            "|1000064918|           The Beard|   Comic Books|       Comics|     USD|2014-11-08|  1500.00|2014-10-09 22:27:52|  395.00|    failed|     16|     US|     395.00|          395.00|      1500.00|\n",
            "|1000068480|Notes From London...|     Art Books|   Publishing|     USD|2015-05-10|  3000.00|2015-04-10 21:20:54|  789.00|    failed|     20|     US|     789.00|          789.00|      3000.00|\n",
            "|1000070642|Mike Corey's Dark...|         Music|        Music|     USD|2012-08-17|   250.00|2012-08-02 14:11:32|  250.00|successful|      7|     US|     250.00|          250.00|       250.00|\n",
            "|1000071625|            Boco Tea|          Food|         Food|     USD|2012-06-02|  5000.00|2012-05-03 17:24:32| 1781.00|    failed|     40|     US|    1781.00|         1781.00|      5000.00|\n",
            "+----------+--------------------+--------------+-------------+--------+----------+---------+-------------------+--------+----------+-------+-------+-----------+----------------+-------------+\n",
            "only showing top 20 rows\n",
            "\n"
          ],
          "name": "stdout"
        }
      ]
    },
    {
      "cell_type": "code",
      "metadata": {
        "colab": {
          "base_uri": "https://localhost:8080/"
        },
        "id": "bBB_KU9oWGEl",
        "outputId": "257bec85-d73c-4bc7-a9aa-4b0b58d49186"
      },
      "source": [
        "spark_df.na.fill(value = 'Destroy Israel',\n",
        "                 subset = ['usd pledged']).show()\n",
        "#it will replace all the null values of 'usd pledged' column with destroy Israel "
      ],
      "execution_count": 63,
      "outputs": [
        {
          "output_type": "stream",
          "text": [
            "+----------+--------------------+--------------+-------------+--------+----------+---------+-------------------+--------+----------+-------+-------+-----------+----------------+-------------+\n",
            "|        ID|                name|      category|main_category|currency|  deadline|     goal|           launched| pledged|     state|backers|country|usd pledged|usd_pledged_real|usd_goal_real|\n",
            "+----------+--------------------+--------------+-------------+--------+----------+---------+-------------------+--------+----------+-------+-------+-----------+----------------+-------------+\n",
            "|1000002330|The Songs of Adel...|        Poetry|   Publishing|     GBP|2015-10-09|  1000.00|2015-08-11 12:12:28|    0.00|    failed|      0|     GB|       0.00|            0.00|      1533.95|\n",
            "|1000003930|Greeting From Ear...|Narrative Film| Film & Video|     USD|2017-11-01| 30000.00|2017-09-02 04:43:57| 2421.00|    failed|     15|     US|     100.00|         2421.00|     30000.00|\n",
            "|1000004038|      Where is Hank?|Narrative Film| Film & Video|     USD|2013-02-26| 45000.00|2013-01-12 00:20:50|  220.00|    failed|      3|     US|     220.00|          220.00|     45000.00|\n",
            "|1000007540|ToshiCapital Reko...|         Music|        Music|     USD|2012-04-16|  5000.00|2012-03-17 03:24:11|    1.00|    failed|      1|     US|       1.00|            1.00|      5000.00|\n",
            "|1000011046|Community Film Pr...|  Film & Video| Film & Video|     USD|2015-08-29| 19500.00|2015-07-04 08:35:03| 1283.00|  canceled|     14|     US|    1283.00|         1283.00|     19500.00|\n",
            "|1000014025|Monarch Espresso Bar|   Restaurants|         Food|     USD|2016-04-01| 50000.00|2016-02-26 13:38:27|52375.00|successful|    224|     US|   52375.00|        52375.00|     50000.00|\n",
            "|1000023410|Support Solar Roa...|          Food|         Food|     USD|2014-12-21|  1000.00|2014-12-01 18:30:44| 1205.00|successful|     16|     US|    1205.00|         1205.00|      1000.00|\n",
            "|1000030581|Chaser Strips. Ou...|        Drinks|         Food|     USD|2016-03-17| 25000.00|2016-02-01 20:05:12|  453.00|    failed|     40|     US|     453.00|          453.00|     25000.00|\n",
            "|1000034518|SPIN - Premium Re...|Product Design|       Design|     USD|2014-05-29|125000.00|2014-04-24 18:14:43| 8233.00|  canceled|     58|     US|    8233.00|         8233.00|    125000.00|\n",
            "| 100004195|STUDIO IN THE SKY...|   Documentary| Film & Video|     USD|2014-08-10| 65000.00|2014-07-11 21:55:48| 6240.57|  canceled|     43|     US|    6240.57|         6240.57|     65000.00|\n",
            "| 100004721| Of Jesus and Madmen|    Nonfiction|   Publishing|     CAD|2013-10-09|  2500.00|2013-09-09 18:19:37|    0.00|    failed|      0|     CA|       0.00|            0.00|      2406.39|\n",
            "| 100005484|    Lisa Lim New CD!|    Indie Rock|        Music|     USD|2013-04-08| 12500.00|2013-03-09 06:42:58|12700.00|successful|    100|     US|   12700.00|        12700.00|     12500.00|\n",
            "|1000055792|  The Cottage Market|        Crafts|       Crafts|     USD|2014-10-02|  5000.00|2014-09-02 17:11:50|    0.00|    failed|      0|     US|       0.00|            0.00|      5000.00|\n",
            "|1000056157|G-Spot Place for ...|         Games|        Games|     USD|2016-03-25|200000.00|2016-02-09 23:01:12|    0.00|    failed|      0|     US|       0.00|            0.00|    200000.00|\n",
            "|1000057089|Tombstone: Old We...|Tabletop Games|        Games|     GBP|2017-05-03|  5000.00|2017-04-05 19:44:18|94175.00|successful|    761|     GB|   57763.78|       121857.33|      6469.73|\n",
            "|1000064368|      Survival Rings|        Design|       Design|     USD|2015-02-28|  2500.00|2015-01-29 02:10:53|  664.00|    failed|     11|     US|     664.00|          664.00|      2500.00|\n",
            "|1000064918|           The Beard|   Comic Books|       Comics|     USD|2014-11-08|  1500.00|2014-10-09 22:27:52|  395.00|    failed|     16|     US|     395.00|          395.00|      1500.00|\n",
            "|1000068480|Notes From London...|     Art Books|   Publishing|     USD|2015-05-10|  3000.00|2015-04-10 21:20:54|  789.00|    failed|     20|     US|     789.00|          789.00|      3000.00|\n",
            "|1000070642|Mike Corey's Dark...|         Music|        Music|     USD|2012-08-17|   250.00|2012-08-02 14:11:32|  250.00|successful|      7|     US|     250.00|          250.00|       250.00|\n",
            "|1000071625|            Boco Tea|          Food|         Food|     USD|2012-06-02|  5000.00|2012-05-03 17:24:32| 1781.00|    failed|     40|     US|    1781.00|         1781.00|      5000.00|\n",
            "+----------+--------------------+--------------+-------------+--------+----------+---------+-------------------+--------+----------+-------+-------+-----------+----------------+-------------+\n",
            "only showing top 20 rows\n",
            "\n"
          ],
          "name": "stdout"
        }
      ]
    },
    {
      "cell_type": "code",
      "metadata": {
        "id": "_60b4TuuWjf6"
      },
      "source": [
        ""
      ],
      "execution_count": null,
      "outputs": []
    }
  ]
}